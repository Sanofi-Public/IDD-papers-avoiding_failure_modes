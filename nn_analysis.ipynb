{
 "cells": [
  {
   "cell_type": "code",
   "execution_count": 1,
   "metadata": {},
   "outputs": [],
   "source": [
    "import json\n",
    "import os\n",
    "import pickle\n",
    "from collections import defaultdict\n",
    "from glob import glob\n",
    "from pathlib import Path\n",
    "import matplotlib.ticker as mtick\n",
    "import matplotlib.pyplot as plt\n",
    "import numpy as np\n",
    "import pandas as pd\n",
    "from matplotlib import rcParams\n",
    "from matplotlib.lines import Line2D\n",
    "from rdkit import Chem\n",
    "from rdkit.Chem import AllChem\n",
    "\n",
    "from plot_utils import *\n",
    "import pandas as pd \n",
    "from sklearn.ensemble import RandomForestClassifier\n",
    "from sklearn.model_selection import train_test_split\n",
    "import copy\n",
    "import re \n",
    "from sklearn.neighbors import NearestNeighbors\n",
    "from matplotlib.ticker import PercentFormatter\n",
    "from utils import *\n",
    "\n",
    "params = {\n",
    "    'font.size': 18,\n",
    "    'legend.fontsize': 18,\n",
    "    'text.usetex': False,\n",
    "}\n",
    "rcParams.update(params)\n",
    "\n",
    "from rdkit import RDLogger\n",
    "RDLogger.DisableLog('rdApp.*')\n",
    "\n",
    "import warnings\n",
    "warnings.filterwarnings('ignore')"
   ]
  },
  {
   "cell_type": "code",
   "execution_count": 3,
   "metadata": {},
   "outputs": [],
   "source": [
    "def fit_clfs(df, is_aldh1=False, topliss_augmented=False):\n",
    "    \"\"\"\n",
    "    Args:\n",
    "        chid: which assay to use:\n",
    "        external_file:\n",
    "    Returns:\n",
    "        clfs: Dictionary of fitted classifiers\n",
    "        aucs: Dictionary of AUCs\n",
    "        balance: Two numbers showing the number of actives in split 1 / split 2\n",
    "        df1: data in split 1\n",
    "        df2: data in split 2\n",
    "    \"\"\"\n",
    "    # read data and calculate ecfp fingerprints\n",
    "\n",
    "    \n",
    "    if is_aldh1:\n",
    "        df = pd.read_csv(\"210415_LIT_PCBA_ALDH1_Best_AB_sets.csv\")\n",
    "        in_set_A = np.where(df['in_set_A']==1)[0]\n",
    "        in_set_B = np.where(df['in_set_B']==1)[0]\n",
    "        smiles = df[\"SMILES\"]\n",
    "        activity = df[\"Act\"]\n",
    "        index_test = []\n",
    "        for i in range(len(smiles)):\n",
    "            if i not in in_set_A and i not in in_set_B:\n",
    "                index_test.append(i)\n",
    "\n",
    "        in_test = np.array(index_test)\n",
    "\n",
    "        #in_test = np.where(df['in_set_A']==0 and df['in_set_B']==0)\n",
    "\n",
    "\n",
    "        X1 = np.array(ecfp(smiles[in_set_A]))\n",
    "        X2 = np.array(ecfp(smiles[in_set_B]))\n",
    "\n",
    "        y1 = np.array(activity[in_set_A])\n",
    "        y2 = np.array(activity[in_set_B])\n",
    "        smiles_test = np.array(smiles)[in_test]\n",
    "    else:\n",
    "        df['ecfp'] = ecfp(df.smiles)\n",
    "        df_train, df_test = train_test_split(df, test_size=0.1, stratify=df['label'], random_state=0)\n",
    "\n",
    "\n",
    "        df1, df2 = train_test_split(df_train, test_size=0.5, stratify=df_train['label'], random_state=0)\n",
    "        X1 = np.array(list(df1['ecfp']))\n",
    "        X2 = np.array(list(df2['ecfp']))\n",
    "\n",
    "        y1 = np.array(list(df1['label']))\n",
    "        y2 = np.array(list(df2['label']))\n",
    "\n",
    "        del df1['ecfp']\n",
    "        del df2['ecfp']\n",
    "        smiles_test = df_test.smiles\n",
    "    \n",
    "    \n",
    "    balance = (np.mean(y1), np.mean(y2))\n",
    "    clf_1 = RandomForestClassifier(\n",
    "        n_estimators=100, random_state=0, min_samples_leaf=1, max_depth=None)\n",
    "\n",
    "    clf_2 = RandomForestClassifier(\n",
    "        n_estimators=100, random_state=0)\n",
    "    clf_1.fit(X1, y1)\n",
    "    clf_2.fit(X2, y2)\n",
    "    test_scores = clf_1.predict_proba(ecfp(smiles_test))[:, 1]\n",
    "    \n",
    "    if topliss_augmented:\n",
    "        augmented_smiles_test = []\n",
    "        for i, s in enumerate(smiles_test):\n",
    "            if test_scores[i]>0.25:\n",
    "                augmented_smiles_test.extend(topliss_walk(s, n_combinations=2))\n",
    "            else:\n",
    "                augmented_smiles_test.extend([s])\n",
    "        augmented_smiles_test = np.array(augmented_smiles_test)\n",
    "        X_test = ecfp(augmented_smiles_test)\n",
    "    else:\n",
    "        augmented_smiles_test = smiles_test\n",
    "        X_test = ecfp(augmented_smiles_test)\n",
    "\n",
    "    scores_1 = clf_1.predict_proba(X_test)[:, 1]\n",
    "    scores_2 = clf_2.predict_proba(X_test)[:, 1]\n",
    "\n",
    "    return df1.smiles, df2.smiles, y1, y2, augmented_smiles_test, scores_1, scores_2\n",
    "\n",
    "def get_sims(smiles_1, smiles_2):\n",
    "    neigh = NearestNeighbors(10, 0.1, metric='jaccard', algorithm='brute')\n",
    "    neigh.fit(ecfp(smiles_2))\n",
    "    sims = []\n",
    "    for x in ecfp(smiles_1):\n",
    "        dist, idx = neigh.kneighbors(x.reshape(1, -1))\n",
    "        sims.extend(dist[0])\n",
    "    return sims"
   ]
  },
  {
   "cell_type": "markdown",
   "metadata": {},
   "source": [
    "# Similarity of high scoring molecules in held-out test set with Split 1/2 molecules"
   ]
  },
  {
   "cell_type": "code",
   "execution_count": 2,
   "metadata": {},
   "outputs": [],
   "source": [
    "columns = ['AssayID', 'TargetName', 'TargetID']\n",
    "\n",
    "rows = [('CHEMBL3888429', 'JAK2', 'CHEMBL2971'),\n",
    "        ('CHEMBL1909203', 'EGFR', 'CHEMBL203'),\n",
    "        ('CHEMBL1909140', 'DRD2', 'CHEMBL217'),\n",
    "        ('CHEMBL1794345', 'Pla. Fal.', 'CHEMBL364'),\n",
    "        ('CHEMBL1741322', 'Cytochrome', 'CHEMBL3356'),\n",
    "        ('CHEMBL1963961', 'CCRF-CEM', 'CHEMBL382')]\n",
    "\n",
    "assay_info = pd.DataFrame(rows, columns=columns)\n",
    "\n",
    "chid2name = dict(zip(assay_info['AssayID'], assay_info['TargetName']))\n",
    "\n",
    "\n",
    "chids = ['CHEMBL3888429', 'CHEMBL1909203', 'CHEMBL1909140']\n",
    "optimizers = ['graph_ga', 'lstm_hc', 'mso']\n",
    "auc_title = False # whether or not to include auc in plot\n",
    "lw = 0.7 # line width\n",
    "nrows = 1 # for two optimizers\n",
    "ncols = len(chids) # for the number of tasks"
   ]
  },
  {
   "cell_type": "code",
   "execution_count": 27,
   "metadata": {},
   "outputs": [
    {
     "name": "stdout",
     "output_type": "stream",
     "text": [
      "0.5913809523809523\n",
      "0.48\n",
      "0.68\n"
     ]
    },
    {
     "data": {
      "image/png": "[encoded data removed]",
      "text/plain": [
       "<Figure size 1080x720 with 3 Axes>"
      ]
     },
     "metadata": {
      "needs_background": "light"
     },
     "output_type": "display_data"
    }
   ],
   "source": [
    "fig, axes = plt.subplots(nrows=nrows, ncols=ncols, figsize=(5*ncols, 10*nrows), sharex=True)\n",
    "for c_idx, chid in enumerate(chids):\n",
    "    ax = axes[c_idx]\n",
    "    assay_file ='assays/processed/' + str(chid) + '.csv'\n",
    "    df = pd.read_csv(assay_file)    \n",
    "    smiles_1, smiles_2, y1, y2, smiles_test, scores_1, scores_2 = fit_clfs(df, topliss_augmented=True)\n",
    "    top_percentile = np.percentile(scores_1, 95)\n",
    "    similarities_1 = get_sims(np.array(smiles_test)[np.where(scores_1>top_percentile)[0]], np.array(smiles_1))\n",
    "    similarities_2 = get_sims(np.array(smiles_test)[np.where(scores_1>top_percentile)[0]], np.array(smiles_2))        \n",
    "    alpha=0.5\n",
    "    bins = np.linspace(0,1,50)\n",
    "    ax.hist([1-x for x in similarities_1], bins=bins, alpha=alpha, label='Split 1', weights=np.ones(len(similarities_1)) / len(similarities_1), log=True)\n",
    "    ax.hist([1-x for x in similarities_2], bins=bins, alpha=alpha, label='Split 2', weights=np.ones(len(similarities_2)) / len(similarities_2), log=True)\n",
    "    ax.set_yscale('log')\n",
    "    \n",
    "    \n",
    "    ax.set_title(chid2name[chid])\n",
    "    low, high = ax.set_ylim(0, 1)\n",
    "    ax.set_yticks([0.0001, 0.001, 0.01, 0.1])\n",
    "    ax.set_yticklabels([\"\", \"0.1%\", \"1.0%\", \"10.0%\"])\n",
    "    \n",
    "    ax.set_title(chid2name[chid])\n",
    "\n",
    "\n",
    "axes[0].legend()\n",
    "\n",
    "axes[0].set_ylabel('Frequency')\n",
    "    \n",
    "for i in range(ncols):\n",
    "    axes[i].set_xlabel('Tanimoto similarity')\n",
    "\n",
    "xtext = -0.4\n",
    "plt.tight_layout()\n",
    "plt.savefig('figures/similarities_top_5.pdf', bbox_inches='tight')"
   ]
  }
 ],
 "metadata": {
  "kernelspec": {
   "display_name": "failuresmodes",
   "language": "python",
   "name": "failuresmodes"
  },
  "language_info": {
   "codemirror_mode": {
    "name": "ipython",
    "version": 3
   },
   "file_extension": ".py",
   "mimetype": "text/x-python",
   "name": "python",
   "nbconvert_exporter": "python",
   "pygments_lexer": "ipython3",
   "version": "3.7.7"
  },
  "varInspector": {
   "cols": {
    "lenName": 16,
    "lenType": 16,
    "lenVar": 40
   },
   "kernels_config": {
    "python": {
     "delete_cmd_postfix": "",
     "delete_cmd_prefix": "del ",
     "library": "var_list.py",
     "varRefreshCmd": "print(var_dic_list())"
    },
    "r": {
     "delete_cmd_postfix": ") ",
     "delete_cmd_prefix": "rm(",
     "library": "var_list.r",
     "varRefreshCmd": "cat(var_dic_list()) "
    }
   },
   "types_to_exclude": [
    "module",
    "function",
    "builtin_function_or_method",
    "instance",
    "_Feature"
   ],
   "window_display": false
  }
 },
 "nbformat": 4,
 "nbformat_minor": 2
}
