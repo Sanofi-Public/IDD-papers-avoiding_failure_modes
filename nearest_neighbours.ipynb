{
 "cells": [
  {
   "cell_type": "code",
   "execution_count": 10,
   "metadata": {},
   "outputs": [
    {
     "name": "stdout",
     "output_type": "stream",
     "text": [
      "The autoreload extension is already loaded. To reload it, use:\n",
      "  %reload_ext autoreload\n"
     ]
    }
   ],
   "source": [
    "%load_ext autoreload\n",
    "%autoreload 2\n",
    "\n",
    "import json\n",
    "import os\n",
    "import pickle\n",
    "from collections import defaultdict\n",
    "from glob import glob\n",
    "from pathlib import Path\n",
    "\n",
    "import matplotlib.pyplot as plt\n",
    "import numpy as np\n",
    "import pandas as pd\n",
    "from matplotlib import rcParams\n",
    "from matplotlib.lines import Line2D\n",
    "\n",
    "from plot_utils import load_chid\n",
    "\n",
    "import json\n",
    "import os\n",
    "import pickle\n",
    "from collections import defaultdict\n",
    "from glob import glob\n",
    "from pathlib import Path\n",
    "import matplotlib.ticker as mtick\n",
    "import matplotlib.pyplot as plt\n",
    "import numpy as np\n",
    "import pandas as pd\n",
    "from matplotlib import rcParams\n",
    "from matplotlib.lines import Line2D\n",
    "from rdkit import Chem\n",
    "from rdkit.Chem import AllChem\n",
    "\n",
    "from plot_utils import *\n",
    "import pandas as pd \n",
    "from sklearn.ensemble import RandomForestClassifier\n",
    "from sklearn.model_selection import train_test_split\n",
    "import copy\n",
    "import re \n",
    "from sklearn.neighbors import NearestNeighbors\n",
    "from matplotlib.ticker import PercentFormatter\n",
    "from utils import \n",
    "params = {\n",
    "    'font.size': 18,\n",
    "    'legend.fontsize': 18,\n",
    "    'text.usetex': False,\n",
    "}\n",
    "rcParams.update(params)\n",
    "\n",
    "from rdkit import RDLogger\n",
    "RDLogger.DisableLog('rdApp.*')\n",
    "\n",
    "import warnings\n",
    "warnings.filterwarnings('ignore')"
   ]
  },
  {
   "cell_type": "code",
   "execution_count": 11,
   "metadata": {},
   "outputs": [],
   "source": [
    "    \n",
    "from rdkit import Chem\n",
    "from rdkit.Chem import Draw\n",
    "# from svglib.svglib import svg2rlg\n",
    "# from reportlab.graphics import renderPDF\n",
    "\n",
    "from IPython.display import display, SVG\n",
    "def forfor(a):\n",
    "    return [item for sublist in a for item in sublist]\n",
    "\n",
    "def m7s(smiles):\n",
    "    return Chem.MolFromSmiles(smiles)\n",
    "\n",
    "from sklearn.neighbors import NearestNeighbors\n",
    "def get_dists(X, Y):\n",
    "    neigh = NearestNeighbors(10, 0.4, metric='jaccard', algorithm='brute')\n",
    "    neigh.fit(X)\n",
    "    dist, idx = neigh.kneighbors(Y)\n",
    "    return dist, idx\n",
    "\n",
    "from collections import Counter"
   ]
  },
  {
   "cell_type": "code",
   "execution_count": 12,
   "metadata": {},
   "outputs": [],
   "source": [
    "columns = ['AssayID', 'TargetName', 'TargetID']\n",
    "rows = [('CHEMBL3888429', 'JAK2', 'CHEMBL2971'),\n",
    "        ('CHEMBL1909203', 'EGFR', 'CHEMBL203'),\n",
    "        ('CHEMBL1909140', 'DRD2', 'CHEMBL217')]\n",
    "\n",
    "assay_info = pd.DataFrame(rows, columns=columns)\n",
    "chid2name = dict(zip(assay_info['AssayID'], assay_info['TargetName']))\n",
    "\n",
    "order = ('Split1', 'Split2', 'Split1_alt')\n",
    "col_dict = dict(zip(order, ['blue', 'red', 'green']))\n",
    "col_dict2 = dict(zip(order, ['cyan', 'magenta', 'green']))\n",
    "legend_dict = dict(zip(order, ['Optimization', 'Data control', 'Model control']))\n",
    "chids = ['CHEMBL3888429', 'CHEMBL1909203', 'CHEMBL1909140']"
   ]
  },
  {
   "cell_type": "code",
   "execution_count": 13,
   "metadata": {},
   "outputs": [],
   "source": [
    "def get_nn(si, so):\n",
    "    smiles_train = list(si[si['Split'] == 0].smiles)\n",
    "    smiles_test = list(si[si['Split'] == 1].smiles)\n",
    "\n",
    "    ecfp_train = np.array(ecfp(smiles_train), dtype=bool)\n",
    "    ecfp_test = np.array(ecfp(smiles_test), dtype=bool)\n",
    "    ecfp_opt = np.array(ecfp(so), dtype=bool)\n",
    "\n",
    "    # get nearest neighbours and distances\n",
    "    dist_train, idx_train = get_dists(ecfp_train, ecfp_opt)\n",
    "    dist_test, idx_test = get_dists(ecfp_test, ecfp_opt)\n",
    "\n",
    "    nnd_train = dist_train[:,0]\n",
    "    nnd_test = dist_test[:,0]\n",
    "\n",
    "    nn_train = [smiles_train[i] for i in idx_train[:,0]]\n",
    "    nn_test = [smiles_test[i] for i in idx_test[:,0]]\n",
    "    return nnd_train, nnd_test, nn_train, nn_test"
   ]
  },
  {
   "cell_type": "code",
   "execution_count": 18,
   "metadata": {},
   "outputs": [
    {
     "name": "stdout",
     "output_type": "stream",
     "text": [
      "results/definitive_start_from_dataset/graph_ga/CHEMBL3888429\n",
      "results/definitive_start_from_dataset/graph_ga/CHEMBL1909203\n",
      "results/definitive_start_from_dataset/graph_ga/CHEMBL1909140\n",
      "results/definitive_start_from_dataset/lstm_hc/CHEMBL3888429\n",
      "results/definitive_start_from_dataset/lstm_hc/CHEMBL1909203\n",
      "results/definitive_start_from_dataset/lstm_hc/CHEMBL1909140\n",
      "results/definitive_start_from_dataset/mso/CHEMBL3888429\n",
      "results/definitive_start_from_dataset/mso/CHEMBL1909203\n",
      "results/definitive_start_from_dataset/mso/CHEMBL1909140\n"
     ]
    }
   ],
   "source": [
    "results_dir = Path('results/definitive_start_from_dataset/')\n",
    "\n",
    "results = {}\n",
    "for optimizer in ['graph_ga', 'lstm_hc', 'mso']:\n",
    "    if optimizer in results:\n",
    "        continue\n",
    "    \n",
    "    results[optimizer] = {}\n",
    "    for chid in chids:\n",
    "        chid_path = results_dir/optimizer/chid\n",
    "        print(chid_path)\n",
    "        # split info contains information about the data splits. a list of dataframes\n",
    "        preds_internal, preds_external, auc, smiles, split_info = load_chid(Path(chid_path), order)\n",
    "\n",
    "        # predictions of last iteration for all runs [10, nsamples]\n",
    "        preds1 = [p[-1] for p in preds_internal['Split1']]\n",
    "        preds2 = [p[-1] for p in preds_internal['Split2']]\n",
    "\n",
    "        # final optimized smiles [10, nsamples]\n",
    "        smiles_opt = [sl[-1] for sl in smiles]\n",
    "\n",
    "        # for each run calculate nearest neighbours\n",
    "        accumulate = []\n",
    "        for si, so in zip(split_info, smiles_opt):\n",
    "            accumulate.append(get_nn(si, so))\n",
    "\n",
    "        nnd_train, nnd_test, nn_train, nn_test = zip(*accumulate)\n",
    "        results[optimizer][chid] = (smiles_opt, preds1, preds2, nnd_train, nnd_test, nn_train, nn_test)"
   ]
  },
  {
   "cell_type": "code",
   "execution_count": 19,
   "metadata": {},
   "outputs": [
    {
     "name": "stdout",
     "output_type": "stream",
     "text": [
      "graph_ga\n",
      "lstm_hc\n",
      "mso\n"
     ]
    },
    {
     "data": {
      "image/png": "[encoded data removed]",
      "text/plain": [
       "<Figure size 1080x432 with 9 Axes>"
      ]
     },
     "metadata": {
      "needs_background": "light"
     },
     "output_type": "display_data"
    }
   ],
   "source": [
    "title = True\n",
    "nrows = 3\n",
    "ncols = len(chids)\n",
    "fig, axes = plt.subplots(nrows=nrows, ncols=ncols, figsize=(15, 6), sharex=True)\n",
    "\n",
    "for r_idx, (optimizer, opt_results) in enumerate(results.items()):\n",
    "    print(optimizer)\n",
    "    for c_idx, (chid, values) in enumerate(opt_results.items()):\n",
    "        ax = axes[r_idx][c_idx]\n",
    "        smiles_opt, preds1, preds2, nnd_train, nnd_test, nn_train, nn_test = values\n",
    "    \n",
    "        sims_train = 1-np.array(forfor(nnd_train))\n",
    "        sims_test = 1-np.array(forfor(nnd_test))\n",
    "        \n",
    "        alpha=0.5\n",
    "        bins = np.linspace(0,1,50)\n",
    "        ax.hist(sims_train, bins=bins, alpha=alpha, label='Split 1')\n",
    "        ax.hist(sims_test, bins=bins, alpha=alpha, label='Split 2')\n",
    "\n",
    "        if r_idx==0:\n",
    "            ax.set_title(chid2name[chid])\n",
    "\n",
    "\n",
    "axes[0][2].legend()\n",
    "\n",
    "for i in range(nrows):\n",
    "    axes[i][0].set_ylabel('Frequency')\n",
    "    \n",
    "for i in range(ncols):\n",
    "    axes[-1][i].set_xlabel('Tanimoto similarity')\n",
    "\n",
    "xtext = -0.4\n",
    "axes[0][0].text(xtext, sum(axes[0][0].get_ylim()) / 2 , \"GA\", rotation=90, verticalalignment='center')\n",
    "axes[1][0].text(xtext, sum(axes[1][0].get_ylim()) / 2, \"LSTM\", rotation=90, verticalalignment='center')\n",
    "axes[2][0].text(xtext, sum(axes[2][0].get_ylim()) / 2, \"PS\", rotation=90, verticalalignment='center')\n",
    "plt.tight_layout()\n",
    "plt.savefig('figures/NND_hist_optimized.pdf')"
   ]
  },
  {
   "cell_type": "code",
   "execution_count": null,
   "metadata": {},
   "outputs": [],
   "source": []
  }
 ],
 "metadata": {
  "kernelspec": {
   "display_name": "Python (env_deepLearning)",
   "language": "python",
   "name": "env_deeplearning"
  },
  "language_info": {
   "codemirror_mode": {
    "name": "ipython",
    "version": 3
   },
   "file_extension": ".py",
   "mimetype": "text/x-python",
   "name": "python",
   "nbconvert_exporter": "python",
   "pygments_lexer": "ipython3",
   "version": "3.6.12"
  }
 },
 "nbformat": 4,
 "nbformat_minor": 2
}
