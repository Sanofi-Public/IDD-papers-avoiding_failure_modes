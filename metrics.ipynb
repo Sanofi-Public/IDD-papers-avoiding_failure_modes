{
 "cells": [
  {
   "cell_type": "code",
   "execution_count": null,
   "metadata": {},
   "outputs": [],
   "source": [
    "import argparse\n",
    "import os\n",
    "import pickle\n",
    "from collections import defaultdict\n",
    "\n",
    "import numpy as np\n",
    "import pandas as pd\n",
    "from sklearn.ensemble import RandomForestClassifier\n",
    "from sklearn.model_selection import train_test_split\n",
    "from sklearn.metrics import roc_auc_score, matthews_corrcoef, average_precision_score\n",
    "\n",
    "from utils import ecfp\n",
    "\n",
    "\n",
    "def get_predictions(chid, n_estimators=100, n_jobs=8, n_runs=10):\n",
    "    # read data and calculate ecfp fingerprints\n",
    "    assay_file = f'./assays/processed/{chid}.csv'\n",
    "    print(f'Reading data from: {assay_file}')\n",
    "    df = pd.read_csv(assay_file)\n",
    "    X = np.array(ecfp(df.smiles))\n",
    "    y = np.array(df.label)\n",
    "\n",
    "    \n",
    "    metrics = defaultdict(list)\n",
    "    for i in range(n_runs):\n",
    "        X1, X2, y1, y2 = train_test_split(X, y, test_size=0.5, stratify=y)\n",
    "        clf = RandomForestClassifier(\n",
    "            n_estimators=n_estimators, n_jobs=n_jobs)\n",
    "        clf.fit(X1, y1)\n",
    "        \n",
    "        y_pred = clf.predict_proba(X2)[:, 1]\n",
    "        \n",
    "        metrics['ROC AUC'].append(roc_auc_score(y2, y_pred))\n",
    "#         metrics['matthews_corrcoef'].append(matthews_corrcoef(y2, y_pred>0.5))\n",
    "        metrics['AP'].append(average_precision_score(y2, y_pred))\n",
    "        metrics['Fraction positive'].append(y2.mean())\n",
    "    return metrics"
   ]
  },
  {
   "cell_type": "code",
   "execution_count": null,
   "metadata": {},
   "outputs": [
    {
     "name": "stdout",
     "output_type": "stream",
     "text": [
      "Reading data from: ./assays/processed/CHEMBL1909140.csv\n",
      "ROC AUC: 0.8531470159278104\n",
      "AP: 0.5272357535818218\n",
      "Fraction positive: 0.07007125890736342\n",
      "Reading data from: ./assays/processed/CHEMBL3888429.csv\n",
      "ROC AUC: 0.7844886363636363\n",
      "AP: 0.4434026928686059\n",
      "Fraction positive: 0.20958083832335328\n",
      "Reading data from: ./assays/processed/CHEMBL1909203.csv\n",
      "ROC AUC: 0.7154551122194514\n",
      "AP: 0.15249578045341433\n",
      "Fraction positive: 0.047505938242280284\n"
     ]
    }
   ],
   "source": [
    "dir_results ='./results/goal_directed_paper'\n",
    "chids = os.listdir(os.path.join(dir_results, 'graph_ga'))\n",
    "\n",
    "all_metrics = {}\n",
    "for chid in chids:\n",
    "    metrics = get_predictions(chid)\n",
    "    all_metrics[chid] = metrics\n",
    "       \n",
    "    for name, values in metrics.items():\n",
    "        print(f\"{name}: {np.mean(values)}\")"
   ]
  },
  {
   "cell_type": "code",
   "execution_count": null,
   "metadata": {},
   "outputs": [
    {
     "data": {
      "text/html": [
       "<div>\n",
       "<style scoped>\n",
       "    .dataframe tbody tr th:only-of-type {\n",
       "        vertical-align: middle;\n",
       "    }\n",
       "\n",
       "    .dataframe tbody tr th {\n",
       "        vertical-align: top;\n",
       "    }\n",
       "\n",
       "    .dataframe thead th {\n",
       "        text-align: right;\n",
       "    }\n",
       "</style>\n",
       "<table border=\"1\" class=\"dataframe\">\n",
       "  <thead>\n",
       "    <tr style=\"text-align: right;\">\n",
       "      <th></th>\n",
       "      <th>AssayID</th>\n",
       "      <th>ROC AUC_mean</th>\n",
       "      <th>AP_mean</th>\n",
       "      <th>Fraction positive</th>\n",
       "      <th>ROC AUC_std</th>\n",
       "      <th>AP_std</th>\n",
       "    </tr>\n",
       "  </thead>\n",
       "  <tbody>\n",
       "    <tr>\n",
       "      <th>0</th>\n",
       "      <td>CHEMBL1909140</td>\n",
       "      <td>0.853147</td>\n",
       "      <td>0.527236</td>\n",
       "      <td>0.070071</td>\n",
       "      <td>0.028708</td>\n",
       "      <td>0.085707</td>\n",
       "    </tr>\n",
       "    <tr>\n",
       "      <th>1</th>\n",
       "      <td>CHEMBL3888429</td>\n",
       "      <td>0.784489</td>\n",
       "      <td>0.443403</td>\n",
       "      <td>0.209581</td>\n",
       "      <td>0.027934</td>\n",
       "      <td>0.046769</td>\n",
       "    </tr>\n",
       "    <tr>\n",
       "      <th>2</th>\n",
       "      <td>CHEMBL1909203</td>\n",
       "      <td>0.715455</td>\n",
       "      <td>0.152496</td>\n",
       "      <td>0.047506</td>\n",
       "      <td>0.079936</td>\n",
       "      <td>0.052771</td>\n",
       "    </tr>\n",
       "  </tbody>\n",
       "</table>\n",
       "</div>"
      ],
      "text/plain": [
       "         AssayID  ROC AUC_mean   AP_mean  Fraction positive  ROC AUC_std  \\\n",
       "0  CHEMBL1909140      0.853147  0.527236           0.070071     0.028708   \n",
       "1  CHEMBL3888429      0.784489  0.443403           0.209581     0.027934   \n",
       "2  CHEMBL1909203      0.715455  0.152496           0.047506     0.079936   \n",
       "\n",
       "     AP_std  \n",
       "0  0.085707  \n",
       "1  0.046769  \n",
       "2  0.052771  "
      ]
     },
     "execution_count": null,
     "metadata": {},
     "output_type": "execute_result"
    }
   ],
   "source": [
    "proc = []\n",
    "\n",
    "for assay, metrics in all_metrics.items():\n",
    "    entry = {\"AssayID\": assay}\n",
    "    \n",
    "    entry.update({f\"{k}_mean\": np.mean(v) for k,v in metrics.items()})\n",
    "    entry.update({f\"{k}_std\": np.std(v) for k,v in metrics.items()})\n",
    "    proc.append(entry)\n",
    "\n",
    "df = pd.DataFrame(proc)\n",
    "del df['Fraction positive_std']\n",
    "df = df.rename(columns={'Fraction positive_mean': 'Fraction positive'})\n",
    "df"
   ]
  },
  {
   "cell_type": "code",
   "execution_count": null,
   "metadata": {},
   "outputs": [],
   "source": [
    "df.to_csv(os.path.join(dir_results, 'performance.csv'))"
   ]
  },
  {
   "cell_type": "code",
   "execution_count": null,
   "metadata": {},
   "outputs": [
    {
     "name": "stdout",
     "output_type": "stream",
     "text": [
      "ROC AUC_mean\n",
      "matthews_corrcoef_1_mean\n",
      "matthews_corrcoef_2_mean\n",
      "matthews_corrcoef_5_mean\n",
      "matthews_corrcoef_7_mean\n",
      "AP_mean\n",
      "Fraction positive_mean\n"
     ]
    }
   ],
   "source": [
    "for mean_col in [col for col in df.columns if col.endswith('_mean')]:\n",
    "    print(mean_col)"
   ]
  }
 ],
 "metadata": {
  "kernelspec": {
   "display_name": "Python 3",
   "language": "python",
   "name": "python3"
  },
  "language_info": {
   "codemirror_mode": {
    "name": "ipython",
    "version": 3
   },
   "file_extension": ".py",
   "mimetype": "text/x-python",
   "name": "python",
   "nbconvert_exporter": "python",
   "pygments_lexer": "ipython3",
   "version": "3.7.7"
  }
 },
 "nbformat": 4,
 "nbformat_minor": 4
}
